{
  "nbformat": 4,
  "nbformat_minor": 0,
  "metadata": {
    "colab": {
      "provenance": []
    },
    "kernelspec": {
      "name": "python3",
      "display_name": "Python 3"
    },
    "language_info": {
      "name": "python"
    }
  },
  "cells": [
    {
      "cell_type": "code",
      "execution_count": null,
      "metadata": {
        "id": "HLNbUgxJ09pZ"
      },
      "outputs": [],
      "source": [
        "# Import library panda untuk melakukan analisis data\n",
        "import pandas as pd"
      ]
    },
    {
      "cell_type": "code",
      "source": [
        "# Masukkan path dataset dari drive\n",
        "path = \"/content/drive/MyDrive/1_raw_data_13-12_22.03.16.xlsx\"\n",
        "mydata = pd.read_excel(path)"
      ],
      "metadata": {
        "id": "G9Vz6QNUHwf6"
      },
      "execution_count": null,
      "outputs": []
    },
    {
      "cell_type": "code",
      "source": [
        "from google.colab import drive\n",
        "drive.mount('/content/drive')"
      ],
      "metadata": {
        "colab": {
          "base_uri": "https://localhost:8080/"
        },
        "id": "cjxM6v_un0pW",
        "outputId": "c7e32658-fba4-4f7f-ba32-b7cfe9f8019e"
      },
      "execution_count": null,
      "outputs": [
        {
          "output_type": "stream",
          "name": "stdout",
          "text": [
            "Mounted at /content/drive\n"
          ]
        }
      ]
    },
    {
      "cell_type": "code",
      "source": [
        "mydata.shape"
      ],
      "metadata": {
        "colab": {
          "base_uri": "https://localhost:8080/"
        },
        "id": "gXUkc-xeI7S2",
        "outputId": "a74f48fd-e09b-43ec-eef0-97c0c6abc2d8"
      },
      "execution_count": null,
      "outputs": [
        {
          "output_type": "execute_result",
          "data": {
            "text/plain": [
              "(63196, 10)"
            ]
          },
          "metadata": {},
          "execution_count": 5
        }
      ]
    },
    {
      "cell_type": "code",
      "source": [
        "mydata.head"
      ],
      "metadata": {
        "colab": {
          "base_uri": "https://localhost:8080/"
        },
        "id": "Qs03L9W3I-41",
        "outputId": "8a02b54c-4f35-441b-82d2-6eed3b5bb044"
      },
      "execution_count": null,
      "outputs": [
        {
          "output_type": "execute_result",
          "data": {
            "text/plain": [
              "<bound method NDFrame.head of         time  channel1  channel2  channel3  channel4  channel5  channel6  \\\n",
              "0          1   0.00001  -0.00002  -0.00001  -0.00003   0.00000  -0.00001   \n",
              "1          5   0.00001  -0.00002  -0.00001  -0.00003   0.00000  -0.00001   \n",
              "2          6  -0.00001   0.00001   0.00002   0.00000   0.00001  -0.00002   \n",
              "3          7  -0.00001   0.00001   0.00002   0.00000   0.00001  -0.00002   \n",
              "4          8  -0.00001   0.00001   0.00002   0.00000   0.00001  -0.00002   \n",
              "...      ...       ...       ...       ...       ...       ...       ...   \n",
              "63191  65657  -0.00001   0.00001  -0.00005  -0.00001  -0.00003  -0.00001   \n",
              "63192  65658  -0.00001   0.00001  -0.00005  -0.00001  -0.00003  -0.00001   \n",
              "63193  65659  -0.00001   0.00001  -0.00005  -0.00001  -0.00003  -0.00001   \n",
              "63194  65660  -0.00001   0.00001  -0.00005  -0.00001  -0.00003  -0.00001   \n",
              "63195  65661  -0.00001   0.00001  -0.00005  -0.00001  -0.00003  -0.00001   \n",
              "\n",
              "       channel7  channel8  result  \n",
              "0       0.00000  -0.00001       0  \n",
              "1       0.00000  -0.00001       0  \n",
              "2      -0.00001   0.00001       0  \n",
              "3      -0.00001   0.00001       0  \n",
              "4      -0.00001   0.00001       0  \n",
              "...         ...       ...     ...  \n",
              "63191  -0.00001  -0.00004       0  \n",
              "63192  -0.00001  -0.00004       0  \n",
              "63193  -0.00001  -0.00004       0  \n",
              "63194  -0.00001  -0.00004       0  \n",
              "63195  -0.00001  -0.00004       0  \n",
              "\n",
              "[63196 rows x 10 columns]>"
            ]
          },
          "metadata": {},
          "execution_count": 6
        }
      ]
    },
    {
      "cell_type": "code",
      "source": [
        "# Definisikan Target\n",
        "\n",
        "y = mydata.result\n",
        "y.describe"
      ],
      "metadata": {
        "colab": {
          "base_uri": "https://localhost:8080/"
        },
        "id": "opixiVOKKWJu",
        "outputId": "e3f2c285-3779-4c72-ba2a-00ac91c6427f"
      },
      "execution_count": null,
      "outputs": [
        {
          "output_type": "execute_result",
          "data": {
            "text/plain": [
              "<bound method NDFrame.describe of 0        0\n",
              "1        0\n",
              "2        0\n",
              "3        0\n",
              "4        0\n",
              "        ..\n",
              "63191    0\n",
              "63192    0\n",
              "63193    0\n",
              "63194    0\n",
              "63195    0\n",
              "Name: result, Length: 63196, dtype: int64>"
            ]
          },
          "metadata": {},
          "execution_count": 7
        }
      ]
    },
    {
      "cell_type": "code",
      "source": [
        "# Definisikan Features\n",
        "\n",
        "X = mydata.drop('result', 1)\n",
        "X.describe"
      ],
      "metadata": {
        "colab": {
          "base_uri": "https://localhost:8080/"
        },
        "id": "8nClR85yKWDQ",
        "outputId": "b48414ae-b63a-4e0b-9021-a2f6f58891dc"
      },
      "execution_count": null,
      "outputs": [
        {
          "output_type": "stream",
          "name": "stderr",
          "text": [
            "<ipython-input-8-1c799a8f51d9>:3: FutureWarning: In a future version of pandas all arguments of DataFrame.drop except for the argument 'labels' will be keyword-only\n",
            "  X = mydata.drop('result', 1)\n"
          ]
        },
        {
          "output_type": "execute_result",
          "data": {
            "text/plain": [
              "<bound method NDFrame.describe of         time  channel1  channel2  channel3  channel4  channel5  channel6  \\\n",
              "0          1   0.00001  -0.00002  -0.00001  -0.00003   0.00000  -0.00001   \n",
              "1          5   0.00001  -0.00002  -0.00001  -0.00003   0.00000  -0.00001   \n",
              "2          6  -0.00001   0.00001   0.00002   0.00000   0.00001  -0.00002   \n",
              "3          7  -0.00001   0.00001   0.00002   0.00000   0.00001  -0.00002   \n",
              "4          8  -0.00001   0.00001   0.00002   0.00000   0.00001  -0.00002   \n",
              "...      ...       ...       ...       ...       ...       ...       ...   \n",
              "63191  65657  -0.00001   0.00001  -0.00005  -0.00001  -0.00003  -0.00001   \n",
              "63192  65658  -0.00001   0.00001  -0.00005  -0.00001  -0.00003  -0.00001   \n",
              "63193  65659  -0.00001   0.00001  -0.00005  -0.00001  -0.00003  -0.00001   \n",
              "63194  65660  -0.00001   0.00001  -0.00005  -0.00001  -0.00003  -0.00001   \n",
              "63195  65661  -0.00001   0.00001  -0.00005  -0.00001  -0.00003  -0.00001   \n",
              "\n",
              "       channel7  channel8  \n",
              "0       0.00000  -0.00001  \n",
              "1       0.00000  -0.00001  \n",
              "2      -0.00001   0.00001  \n",
              "3      -0.00001   0.00001  \n",
              "4      -0.00001   0.00001  \n",
              "...         ...       ...  \n",
              "63191  -0.00001  -0.00004  \n",
              "63192  -0.00001  -0.00004  \n",
              "63193  -0.00001  -0.00004  \n",
              "63194  -0.00001  -0.00004  \n",
              "63195  -0.00001  -0.00004  \n",
              "\n",
              "[63196 rows x 9 columns]>"
            ]
          },
          "metadata": {},
          "execution_count": 8
        }
      ]
    },
    {
      "cell_type": "code",
      "source": [
        "# Import module sklearn untuk melakukan training data\n",
        "from sklearn.model_selection import train_test_split\n",
        "train_X, valid_X, train_y, valid_y = train_test_split(X,y, test_size = 0.2, random_state=1)"
      ],
      "metadata": {
        "id": "2_CgJZaGNFLp"
      },
      "execution_count": null,
      "outputs": []
    },
    {
      "cell_type": "code",
      "source": [
        "# Membangun Neural Networks\n",
        "from tensorflow import keras\n",
        "from tensorflow.keras import layers\n",
        "\n",
        "model = keras.Sequential([\n",
        "    # the hidden ReLu layers\n",
        "    layers.Dense(units=20, activation='relu', input_shape=[9]),\n",
        "    layers.Dense(units=10, activation='relu'),\n",
        "    # the output layer\n",
        "    layers.Dense(units=1, activation='sigmoid'),\n",
        "])"
      ],
      "metadata": {
        "id": "QOvK6zYeNKvO"
      },
      "execution_count": null,
      "outputs": []
    },
    {
      "cell_type": "code",
      "source": [
        "# Membuat ringkasan model\n",
        "print(model.summary())"
      ],
      "metadata": {
        "colab": {
          "base_uri": "https://localhost:8080/"
        },
        "id": "eOnABm1CNM8n",
        "outputId": "19cf2e16-a637-463f-c46a-8d80b52db327"
      },
      "execution_count": null,
      "outputs": [
        {
          "output_type": "stream",
          "name": "stdout",
          "text": [
            "Model: \"sequential\"\n",
            "_________________________________________________________________\n",
            " Layer (type)                Output Shape              Param #   \n",
            "=================================================================\n",
            " dense (Dense)               (None, 20)                200       \n",
            "                                                                 \n",
            " dense_1 (Dense)             (None, 10)                210       \n",
            "                                                                 \n",
            " dense_2 (Dense)             (None, 1)                 11        \n",
            "                                                                 \n",
            "=================================================================\n",
            "Total params: 421\n",
            "Trainable params: 421\n",
            "Non-trainable params: 0\n",
            "_________________________________________________________________\n",
            "None\n"
          ]
        }
      ]
    },
    {
      "cell_type": "code",
      "source": [
        "# membuat sketsa deep learning\n",
        "from keras.utils.vis_utils import plot_model\n",
        "plot_model(model, to_file='model_plot.png', show_shapes=True, show_layer_names=True)"
      ],
      "metadata": {
        "colab": {
          "base_uri": "https://localhost:8080/",
          "height": 422
        },
        "id": "3mrMQoFJNQGe",
        "outputId": "a8f05b4d-3fc0-4cec-b94d-4313535bf3ba"
      },
      "execution_count": null,
      "outputs": [
        {
          "output_type": "execute_result",
          "data": {
            "image/png": "[encoded data removed]",
            "text/plain": [
              "<IPython.core.display.Image object>"
            ]
          },
          "metadata": {},
          "execution_count": 12
        }
      ]
    },
    {
      "cell_type": "markdown",
      "source": [
        "# New Section"
      ],
      "metadata": {
        "id": "QBD2FBCfeNJD"
      }
    },
    {
      "cell_type": "code",
      "source": [
        "# Compile model\n",
        "model.compile(\n",
        "    optimizer='adam',\n",
        "    loss='mae',\n",
        ")"
      ],
      "metadata": {
        "id": "5-NQ2QhyNUu4"
      },
      "execution_count": null,
      "outputs": []
    },
    {
      "cell_type": "code",
      "source": [
        "# Pengecekan error\n",
        "history = model.fit(\n",
        "    train_X, train_y,\n",
        "    validation_data=(valid_X, valid_y),\n",
        "    batch_size=50,\n",
        "    epochs=60,\n",
        ")"
      ],
      "metadata": {
        "colab": {
          "base_uri": "https://localhost:8080/"
        },
        "id": "l7YUFXxYNW2n",
        "outputId": "3a5c18c9-b667-423e-f9e8-6de019579dc8"
      },
      "execution_count": null,
      "outputs": [
        {
          "output_type": "stream",
          "name": "stdout",
          "text": [
            "Epoch 1/60\n",
            "1012/1012 [==============================] - 3s 2ms/step - loss: 1.2464 - val_loss: 1.1862\n",
            "Epoch 2/60\n",
            "1012/1012 [==============================] - 2s 2ms/step - loss: 1.2186 - val_loss: 1.1862\n",
            "Epoch 3/60\n",
            "1012/1012 [==============================] - 2s 2ms/step - loss: 1.2186 - val_loss: 1.1862\n",
            "Epoch 4/60\n",
            "1012/1012 [==============================] - 2s 2ms/step - loss: 1.2186 - val_loss: 1.1862\n",
            "Epoch 5/60\n",
            "1012/1012 [==============================] - 2s 2ms/step - loss: 1.2186 - val_loss: 1.1862\n",
            "Epoch 6/60\n",
            "1012/1012 [==============================] - 2s 2ms/step - loss: 1.2186 - val_loss: 1.1862\n",
            "Epoch 7/60\n",
            "1012/1012 [==============================] - 2s 2ms/step - loss: 1.2186 - val_loss: 1.1862\n",
            "Epoch 8/60\n",
            "1012/1012 [==============================] - 2s 2ms/step - loss: 1.2186 - val_loss: 1.1862\n",
            "Epoch 9/60\n",
            "1012/1012 [==============================] - 2s 2ms/step - loss: 1.2186 - val_loss: 1.1862\n",
            "Epoch 10/60\n",
            "1012/1012 [==============================] - 2s 2ms/step - loss: 1.2186 - val_loss: 1.1862\n",
            "Epoch 11/60\n",
            "1012/1012 [==============================] - 2s 2ms/step - loss: 1.2186 - val_loss: 1.1862\n",
            "Epoch 12/60\n",
            "1012/1012 [==============================] - 2s 2ms/step - loss: 1.2185 - val_loss: 1.1862\n",
            "Epoch 13/60\n",
            "1012/1012 [==============================] - 2s 2ms/step - loss: 1.2185 - val_loss: 1.1862\n",
            "Epoch 14/60\n",
            "1012/1012 [==============================] - 2s 2ms/step - loss: 1.2185 - val_loss: 1.1862\n",
            "Epoch 15/60\n",
            "1012/1012 [==============================] - 2s 2ms/step - loss: 1.2185 - val_loss: 1.1862\n",
            "Epoch 16/60\n",
            "1012/1012 [==============================] - 2s 2ms/step - loss: 1.2185 - val_loss: 1.1862\n",
            "Epoch 17/60\n",
            "1012/1012 [==============================] - 2s 2ms/step - loss: 1.2185 - val_loss: 1.1862\n",
            "Epoch 18/60\n",
            "1012/1012 [==============================] - 2s 2ms/step - loss: 1.2185 - val_loss: 1.1862\n",
            "Epoch 19/60\n",
            "1012/1012 [==============================] - 2s 2ms/step - loss: 1.2185 - val_loss: 1.1862\n",
            "Epoch 20/60\n",
            "1012/1012 [==============================] - 2s 2ms/step - loss: 1.2185 - val_loss: 1.1862\n",
            "Epoch 21/60\n",
            "1012/1012 [==============================] - 2s 2ms/step - loss: 1.2185 - val_loss: 1.1862\n",
            "Epoch 22/60\n",
            "1012/1012 [==============================] - 2s 2ms/step - loss: 1.2185 - val_loss: 1.1862\n",
            "Epoch 23/60\n",
            "1012/1012 [==============================] - 2s 2ms/step - loss: 1.2185 - val_loss: 1.1862\n",
            "Epoch 24/60\n",
            "1012/1012 [==============================] - 2s 2ms/step - loss: 1.2185 - val_loss: 1.1862\n",
            "Epoch 25/60\n",
            "1012/1012 [==============================] - 2s 2ms/step - loss: 1.2185 - val_loss: 1.1862\n",
            "Epoch 26/60\n",
            "1012/1012 [==============================] - 2s 2ms/step - loss: 1.2185 - val_loss: 1.1862\n",
            "Epoch 27/60\n",
            "1012/1012 [==============================] - 2s 2ms/step - loss: 1.2185 - val_loss: 1.1862\n",
            "Epoch 28/60\n",
            "1012/1012 [==============================] - 2s 2ms/step - loss: 1.2185 - val_loss: 1.1862\n",
            "Epoch 29/60\n",
            "1012/1012 [==============================] - 2s 2ms/step - loss: 1.2185 - val_loss: 1.1862\n",
            "Epoch 30/60\n",
            "1012/1012 [==============================] - 2s 2ms/step - loss: 1.2185 - val_loss: 1.1862\n",
            "Epoch 31/60\n",
            "1012/1012 [==============================] - 2s 2ms/step - loss: 1.2185 - val_loss: 1.1862\n",
            "Epoch 32/60\n",
            "1012/1012 [==============================] - 2s 2ms/step - loss: 1.2185 - val_loss: 1.1862\n",
            "Epoch 33/60\n",
            "1012/1012 [==============================] - 2s 2ms/step - loss: 1.2185 - val_loss: 1.1862\n",
            "Epoch 34/60\n",
            "1012/1012 [==============================] - 2s 2ms/step - loss: 1.2185 - val_loss: 1.1862\n",
            "Epoch 35/60\n",
            "1012/1012 [==============================] - 2s 2ms/step - loss: 1.2185 - val_loss: 1.1862\n",
            "Epoch 36/60\n",
            "1012/1012 [==============================] - 2s 2ms/step - loss: 1.2185 - val_loss: 1.1862\n",
            "Epoch 37/60\n",
            "1012/1012 [==============================] - 2s 2ms/step - loss: 1.2185 - val_loss: 1.1862\n",
            "Epoch 38/60\n",
            "1012/1012 [==============================] - 2s 2ms/step - loss: 1.2185 - val_loss: 1.1862\n",
            "Epoch 39/60\n",
            "1012/1012 [==============================] - 2s 2ms/step - loss: 1.2185 - val_loss: 1.1862\n",
            "Epoch 40/60\n",
            "1012/1012 [==============================] - 2s 2ms/step - loss: 1.2185 - val_loss: 1.1862\n",
            "Epoch 41/60\n",
            "1012/1012 [==============================] - 2s 2ms/step - loss: 1.2185 - val_loss: 1.1862\n",
            "Epoch 42/60\n",
            "1012/1012 [==============================] - 2s 2ms/step - loss: 1.2185 - val_loss: 1.1862\n",
            "Epoch 43/60\n",
            "1012/1012 [==============================] - 2s 2ms/step - loss: 1.2185 - val_loss: 1.1862\n",
            "Epoch 44/60\n",
            "1012/1012 [==============================] - 2s 2ms/step - loss: 1.2185 - val_loss: 1.1862\n",
            "Epoch 45/60\n",
            "1012/1012 [==============================] - 2s 2ms/step - loss: 1.2185 - val_loss: 1.1862\n",
            "Epoch 46/60\n",
            "1012/1012 [==============================] - 2s 2ms/step - loss: 1.2185 - val_loss: 1.1862\n",
            "Epoch 47/60\n",
            "1012/1012 [==============================] - 2s 2ms/step - loss: 1.2185 - val_loss: 1.1862\n",
            "Epoch 48/60\n",
            "1012/1012 [==============================] - 2s 2ms/step - loss: 1.2185 - val_loss: 1.1862\n",
            "Epoch 49/60\n",
            "1012/1012 [==============================] - 2s 2ms/step - loss: 1.2185 - val_loss: 1.1862\n",
            "Epoch 50/60\n",
            "1012/1012 [==============================] - 2s 2ms/step - loss: 1.2185 - val_loss: 1.1862\n",
            "Epoch 51/60\n",
            "1012/1012 [==============================] - 2s 2ms/step - loss: 1.2185 - val_loss: 1.1862\n",
            "Epoch 52/60\n",
            "1012/1012 [==============================] - 2s 2ms/step - loss: 1.2185 - val_loss: 1.1862\n",
            "Epoch 53/60\n",
            "1012/1012 [==============================] - 2s 2ms/step - loss: 1.2185 - val_loss: 1.1862\n",
            "Epoch 54/60\n",
            "1012/1012 [==============================] - 2s 2ms/step - loss: 1.2185 - val_loss: 1.1862\n",
            "Epoch 55/60\n",
            "1012/1012 [==============================] - 2s 2ms/step - loss: 1.2185 - val_loss: 1.1862\n",
            "Epoch 56/60\n",
            "1012/1012 [==============================] - 2s 2ms/step - loss: 1.2185 - val_loss: 1.1862\n",
            "Epoch 57/60\n",
            "1012/1012 [==============================] - 2s 2ms/step - loss: 1.2185 - val_loss: 1.1862\n",
            "Epoch 58/60\n",
            "1012/1012 [==============================] - 2s 2ms/step - loss: 1.2185 - val_loss: 1.1862\n",
            "Epoch 59/60\n",
            "1012/1012 [==============================] - 2s 2ms/step - loss: 1.2185 - val_loss: 1.1862\n",
            "Epoch 60/60\n",
            "1012/1012 [==============================] - 2s 2ms/step - loss: 1.2185 - val_loss: 1.1862\n"
          ]
        }
      ]
    },
    {
      "cell_type": "code",
      "source": [
        "# convert the training history to a dataframe\n",
        "history_df = pd.DataFrame(history.history)\n",
        "# use Pandas native plot method\n",
        "history_df['loss'].plot();"
      ],
      "metadata": {
        "colab": {
          "base_uri": "https://localhost:8080/",
          "height": 265
        },
        "id": "I-Fl2-oKNi9v",
        "outputId": "5a264789-fb84-466c-8ba6-62ac4e0eba73"
      },
      "execution_count": null,
      "outputs": [
        {
          "output_type": "display_data",
          "data": {
            "text/plain": [
              "<Figure size 432x288 with 1 Axes>"
            ],
            "image/png": "[encoded data removed]"
          },
          "metadata": {
            "needs_background": "light"
          }
        }
      ]
    },
    {
      "cell_type": "code",
      "source": [
        "valid_X.shape"
      ],
      "metadata": {
        "colab": {
          "base_uri": "https://localhost:8080/"
        },
        "id": "N0i8TWoBgFHH",
        "outputId": "12f48f6f-75d3-4e90-dd9a-aa830a8ad096"
      },
      "execution_count": null,
      "outputs": [
        {
          "output_type": "execute_result",
          "data": {
            "text/plain": [
              "(12640, 9)"
            ]
          },
          "metadata": {},
          "execution_count": 16
        }
      ]
    },
    {
      "cell_type": "code",
      "source": [
        "# Pengecekan deep learning terhadap dataset\n",
        "data_test = valid_X.iloc[5:10]\n",
        "data_test.shape\n",
        "print(data_test)"
      ],
      "metadata": {
        "colab": {
          "base_uri": "https://localhost:8080/"
        },
        "id": "qq4WHb0Agm6Y",
        "outputId": "38eb7485-08c6-44c0-ffdf-de923fd698a3"
      },
      "execution_count": null,
      "outputs": [
        {
          "output_type": "stream",
          "name": "stdout",
          "text": [
            "        time  channel1  channel2  channel3  channel4  channel5  channel6  \\\n",
            "48104  49924   0.00011   0.00015   0.00036   0.00039   0.00041   0.00006   \n",
            "48997  50847   0.00002   0.00003   0.00011   0.00020   0.00017   0.00023   \n",
            "22760  23539   0.00000   0.00002   0.00004   0.00002  -0.00001  -0.00001   \n",
            "36501  37907  -0.00020  -0.00007   0.00000   0.00013   0.00006  -0.00038   \n",
            "62080  64443  -0.00005  -0.00003  -0.00001  -0.00002  -0.00002  -0.00002   \n",
            "\n",
            "       channel7  channel8  \n",
            "48104   0.00011   0.00006  \n",
            "48997   0.00009   0.00004  \n",
            "22760  -0.00001  -0.00001  \n",
            "36501  -0.00049  -0.00021  \n",
            "62080   0.00003  -0.00001  \n"
          ]
        }
      ]
    },
    {
      "cell_type": "code",
      "source": [
        "# Hasil prediksi\n",
        "hasil_prediksi = model.predict(data_test)\n",
        "print(hasil_prediksi)"
      ],
      "metadata": {
        "colab": {
          "base_uri": "https://localhost:8080/"
        },
        "id": "4CvCvIychza8",
        "outputId": "9dc7bee7-cbf4-434e-90b1-87bfdcf88bc4"
      },
      "execution_count": null,
      "outputs": [
        {
          "output_type": "stream",
          "name": "stdout",
          "text": [
            "1/1 [==============================] - 0s 77ms/step\n",
            "[[0.]\n",
            " [0.]\n",
            " [0.]\n",
            " [0.]\n",
            " [0.]]\n"
          ]
        }
      ]
    },
    {
      "cell_type": "code",
      "source": [
        "# Hasil aktual\n",
        "hasil_actual = valid_y.iloc[5:10]\n",
        "print(hasil_actual)"
      ],
      "metadata": {
        "colab": {
          "base_uri": "https://localhost:8080/"
        },
        "id": "dOnyApm7kOrK",
        "outputId": "63c1d02d-f8a9-4302-c795-b321fcaf042a"
      },
      "execution_count": null,
      "outputs": [
        {
          "output_type": "stream",
          "name": "stdout",
          "text": [
            "48104    0\n",
            "48997    4\n",
            "22760    0\n",
            "36501    0\n",
            "62080    0\n",
            "Name: result, dtype: int64\n"
          ]
        }
      ]
    }
  ]
}